{
 "cells": [
  {
   "metadata": {},
   "cell_type": "markdown",
   "source": "# 装饰器 Decorator",
   "id": "4073290e0545734c"
  },
  {
   "metadata": {},
   "cell_type": "markdown",
   "source": "- 函数是一等对象，可以将函数作为参数，传递给函数",
   "id": "5723f22cdbc03030"
  },
  {
   "metadata": {
    "ExecuteTime": {
     "end_time": "2024-12-11T09:15:11.008696Z",
     "start_time": "2024-12-11T09:15:10.994129Z"
    }
   },
   "cell_type": "code",
   "source": [
    "# 函数作为参数传递到函数中\n",
    "def square(x):\n",
    "    return x**2\n",
    "\n",
    "def print_running(f,x):\n",
    "    print(f\"{f.__name__} is running\")\n",
    "    return f(x)\n",
    "\n",
    "result=print_running(square,5)\n",
    "print(result)"
   ],
   "id": "158a313ad2966e95",
   "outputs": [
    {
     "name": "stdout",
     "output_type": "stream",
     "text": [
      "square is running\n",
      "25\n"
     ]
    }
   ],
   "execution_count": 41
  },
  {
   "metadata": {},
   "cell_type": "markdown",
   "source": [
    "1. 装饰器本质上是一个函数，接受函数作为参数，在自己内部，根据传入的函数，定义一个新函数\n",
    "2. 新函数包含传入功能的同时，扩充了新的功能，然后装饰器将新的函数返回\n",
    "3. 这样就可以用新的函数替代旧的函数"
   ],
   "id": "41f01c363253722e"
  },
  {
   "metadata": {
    "ExecuteTime": {
     "end_time": "2024-12-11T09:15:11.178071Z",
     "start_time": "2024-12-11T09:15:11.168430Z"
    }
   },
   "cell_type": "code",
   "source": [
    "def decorator(func):\n",
    "    def wrapper(*args,**kwargs):\n",
    "        print(f\"{func.__name__} is running\")\n",
    "        result=func(*args,**kwargs)\n",
    "        \n",
    "    return wrapper"
   ],
   "id": "7070690371dbf549",
   "outputs": [],
   "execution_count": 42
  },
  {
   "metadata": {},
   "cell_type": "markdown",
   "source": "- count time",
   "id": "191369e0ac01785b"
  },
  {
   "metadata": {
    "ExecuteTime": {
     "end_time": "2024-12-11T09:15:11.316694Z",
     "start_time": "2024-12-11T09:15:11.306560Z"
    }
   },
   "cell_type": "code",
   "source": [
    "import time\n",
    "\n",
    "def time_counter(func):\n",
    "    def wrapper(*args,**kwargs):\n",
    "        start=time.time() \n",
    "        result=func(*args,**kwargs)\n",
    "        end=time.time()\n",
    "        \n",
    "        print(f\"{func.__name__} execution time:{end-start}\")\n",
    "        \n",
    "        return result\n",
    "    return wrapper\n",
    "        "
   ],
   "id": "8de7b0be8ba90490",
   "outputs": [],
   "execution_count": 43
  },
  {
   "metadata": {
    "ExecuteTime": {
     "end_time": "2024-12-11T09:15:11.425107Z",
     "start_time": "2024-12-11T09:15:11.399739Z"
    }
   },
   "cell_type": "code",
   "source": [
    "decorated_square=time_counter(square)\n",
    "decorated_square(10)"
   ],
   "id": "538306af9a55be0a",
   "outputs": [
    {
     "name": "stdout",
     "output_type": "stream",
     "text": [
      "square execution time:0.0\n"
     ]
    },
    {
     "data": {
      "text/plain": [
       "100"
      ]
     },
     "execution_count": 44,
     "metadata": {},
     "output_type": "execute_result"
    }
   ],
   "execution_count": 44
  },
  {
   "metadata": {
    "ExecuteTime": {
     "end_time": "2024-12-11T09:15:11.626541Z",
     "start_time": "2024-12-11T09:15:11.609680Z"
    }
   },
   "cell_type": "code",
   "source": [
    "square=time_counter(square)\n",
    "square(100)"
   ],
   "id": "dce81291e9a71aa0",
   "outputs": [
    {
     "name": "stdout",
     "output_type": "stream",
     "text": [
      "square execution time:0.0\n"
     ]
    },
    {
     "data": {
      "text/plain": [
       "10000"
      ]
     },
     "execution_count": 45,
     "metadata": {},
     "output_type": "execute_result"
    }
   ],
   "execution_count": 45
  },
  {
   "metadata": {
    "ExecuteTime": {
     "end_time": "2024-12-11T09:15:11.812869Z",
     "start_time": "2024-12-11T09:15:11.796091Z"
    }
   },
   "cell_type": "code",
   "source": [
    "@time_counter\n",
    "def double(x):\n",
    "    return 2*x\n",
    "\n",
    "double(100)"
   ],
   "id": "e0fcac7c29da0e23",
   "outputs": [
    {
     "name": "stdout",
     "output_type": "stream",
     "text": [
      "double execution time:0.0\n"
     ]
    },
    {
     "data": {
      "text/plain": [
       "200"
      ]
     },
     "execution_count": 46,
     "metadata": {},
     "output_type": "execute_result"
    }
   ],
   "execution_count": 46
  },
  {
   "metadata": {},
   "cell_type": "markdown",
   "source": "- 加上更强的功能，测量函数运行时间是否超过了阈值",
   "id": "f4366c5ae97ccc41"
  },
  {
   "metadata": {
    "ExecuteTime": {
     "end_time": "2024-12-11T09:15:12.228632Z",
     "start_time": "2024-12-11T09:15:12.204704Z"
    }
   },
   "cell_type": "code",
   "source": [
    "import functools\n",
    "\n",
    "# 装饰器生成器\n",
    "def timer(threshold):\n",
    "    def decorator(func):\n",
    "        @functools.wraps(func) #引入已经写好的装饰器，之后装饰后的函数，名字就不会都变成 wrapper\n",
    "        def wrapper(*args,**kwargs):\n",
    "            start=time.time()\n",
    "            result=func(*args,**kwargs)\n",
    "            end=time.time()\n",
    "            if (end-start)>threshold:\n",
    "                print(f'{func.__name__} execution time longer than {threshold} seconds.')\n",
    "                \n",
    "            return result\n",
    "        return wrapper\n",
    "    return decorator"
   ],
   "id": "26690fc9cae555a7",
   "outputs": [],
   "execution_count": 47
  },
  {
   "metadata": {
    "ExecuteTime": {
     "end_time": "2024-12-11T09:15:12.936687Z",
     "start_time": "2024-12-11T09:15:12.411817Z"
    }
   },
   "cell_type": "code",
   "source": [
    "import time\n",
    "\n",
    "@timer(0.3)\n",
    "def func1():\n",
    "    time.sleep(0.5)\n",
    "    \n",
    "func1()"
   ],
   "id": "d63011f2b7bc8b16",
   "outputs": [
    {
     "name": "stdout",
     "output_type": "stream",
     "text": [
      "func1 execution time longer than 0.3 seconds.\n"
     ]
    }
   ],
   "execution_count": 48
  },
  {
   "metadata": {
    "ExecuteTime": {
     "end_time": "2024-12-11T09:15:13.675713Z",
     "start_time": "2024-12-11T09:15:13.141596Z"
    }
   },
   "cell_type": "code",
   "source": [
    "def func2():\n",
    "    time.sleep(0.5)\n",
    "\n",
    "func2=timer(0.51)(func2)\n",
    "func2()\n",
    "# 没有超过则不会输出"
   ],
   "id": "acf35f33033a30ae",
   "outputs": [
    {
     "name": "stdout",
     "output_type": "stream",
     "text": [
      "func2 execution time longer than 0.51 seconds.\n"
     ]
    }
   ],
   "execution_count": 49
  },
  {
   "metadata": {
    "ExecuteTime": {
     "end_time": "2024-12-11T09:15:13.799709Z",
     "start_time": "2024-12-11T09:15:13.782955Z"
    }
   },
   "cell_type": "code",
   "source": [
    "# 引入内置装饰器后，函数名就不会变成 wrapper\n",
    "func2.__name__"
   ],
   "id": "3bd31fbc44f3a249",
   "outputs": [
    {
     "data": {
      "text/plain": [
       "'func2'"
      ]
     },
     "execution_count": 50,
     "metadata": {},
     "output_type": "execute_result"
    }
   ],
   "execution_count": 50
  },
  {
   "metadata": {},
   "cell_type": "markdown",
   "source": [
    "## 装饰器的优势\n",
    "1. 提升代码复用，减少冗余\n",
    "2. 使得函数逻辑清晰。软件开发的原则是单一职责，一个函数负责一个责任\n",
    "3. 通过装饰器，可以扩展别的函数，比如使用第三方的函数，就不用修改别人的函数，用装饰器包装。"
   ],
   "id": "84b289a5638b5aeb"
  }
 ],
 "metadata": {
  "kernelspec": {
   "display_name": "Python 3",
   "language": "python",
   "name": "python3"
  },
  "language_info": {
   "codemirror_mode": {
    "name": "ipython",
    "version": 2
   },
   "file_extension": ".py",
   "mimetype": "text/x-python",
   "name": "python",
   "nbconvert_exporter": "python",
   "pygments_lexer": "ipython2",
   "version": "2.7.6"
  }
 },
 "nbformat": 4,
 "nbformat_minor": 5
}
