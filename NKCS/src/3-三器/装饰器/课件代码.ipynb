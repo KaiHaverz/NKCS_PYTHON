{
 "cells": [
  {
   "metadata": {},
   "cell_type": "markdown",
   "source": "# 装饰器 Decorator",
   "id": "8c16aebd626a7db6"
  },
  {
   "metadata": {
    "ExecuteTime": {
     "end_time": "2024-12-12T12:56:15.375164Z",
     "start_time": "2024-12-12T12:56:15.357864Z"
    }
   },
   "cell_type": "code",
   "source": [
    "def func():\n",
    "    print(\"Hello,world!\")\n",
    "    return \n",
    "    \n",
    "func()"
   ],
   "id": "e19363dd9be4d92c",
   "outputs": [
    {
     "name": "stdout",
     "output_type": "stream",
     "text": [
      "Hello,world!\n"
     ]
    }
   ],
   "execution_count": 362
  },
  {
   "metadata": {
    "ExecuteTime": {
     "end_time": "2024-12-12T12:56:15.406520Z",
     "start_time": "2024-12-12T12:56:15.387478Z"
    }
   },
   "cell_type": "code",
   "source": [
    "import time \n",
    "\n",
    "def time_counter():\n",
    "    start=time.time()\n",
    "    print(\"Hello,world!\")\n",
    "    end=time.time()\n",
    "    return end-start\n",
    "\n"
   ],
   "id": "e918af92aed573f7",
   "outputs": [],
   "execution_count": 363
  },
  {
   "metadata": {
    "ExecuteTime": {
     "end_time": "2024-12-12T12:56:15.453778Z",
     "start_time": "2024-12-12T12:56:15.433302Z"
    }
   },
   "cell_type": "code",
   "source": "time_counter()",
   "id": "43e64dacca9fe770",
   "outputs": [
    {
     "name": "stdout",
     "output_type": "stream",
     "text": [
      "Hello,world!\n"
     ]
    },
    {
     "data": {
      "text/plain": [
       "0.0"
      ]
     },
     "execution_count": 364,
     "metadata": {},
     "output_type": "execute_result"
    }
   ],
   "execution_count": 364
  },
  {
   "metadata": {
    "ExecuteTime": {
     "end_time": "2024-12-12T12:56:15.531350Z",
     "start_time": "2024-12-12T12:56:15.518001Z"
    }
   },
   "cell_type": "code",
   "source": [
    "def time_counter2(fn):\n",
    "    start=time.time()\n",
    "    fn()\n",
    "    end=time.time()\n",
    "    return end-start\n"
   ],
   "id": "95bd202af1d27fb8",
   "outputs": [],
   "execution_count": 365
  },
  {
   "metadata": {
    "ExecuteTime": {
     "end_time": "2024-12-12T12:56:15.593293Z",
     "start_time": "2024-12-12T12:56:15.579346Z"
    }
   },
   "cell_type": "code",
   "source": "time_counter2(func)",
   "id": "8baf680817054122",
   "outputs": [
    {
     "name": "stdout",
     "output_type": "stream",
     "text": [
      "Hello,world!\n"
     ]
    },
    {
     "data": {
      "text/plain": [
       "0.0"
      ]
     },
     "execution_count": 366,
     "metadata": {},
     "output_type": "execute_result"
    }
   ],
   "execution_count": 366
  },
  {
   "metadata": {
    "ExecuteTime": {
     "end_time": "2024-12-12T12:56:15.827162Z",
     "start_time": "2024-12-12T12:56:15.813266Z"
    }
   },
   "cell_type": "code",
   "source": [
    "import functools\n",
    "from functools import update_wrapper\n",
    "\n",
    "# 改进一下\n",
    "def time_counter3(fn):\n",
    "    @functools.wraps(func)\n",
    "    def wrapper(*args,**kwargs):\n",
    "        start=time.time()\n",
    "        result=fn(*args,**kwargs)\n",
    "        end=time.time()\n",
    "        print(f\"{fn.__name__} execution time: {end-start} s\")\n",
    "        return result\n",
    "    \n",
    "    update_wrapper(wrapper,fn)\n",
    "    return wrapper"
   ],
   "id": "549b61bebf2bfcdb",
   "outputs": [],
   "execution_count": 367
  },
  {
   "metadata": {
    "ExecuteTime": {
     "end_time": "2024-12-12T12:56:15.890497Z",
     "start_time": "2024-12-12T12:56:15.875081Z"
    }
   },
   "cell_type": "code",
   "source": [
    "func=time_counter3(func)\n",
    "func()"
   ],
   "id": "71495b33ab09566f",
   "outputs": [
    {
     "name": "stdout",
     "output_type": "stream",
     "text": [
      "Hello,world!\n",
      "func execution time: 0.0 s\n"
     ]
    }
   ],
   "execution_count": 368
  },
  {
   "metadata": {
    "ExecuteTime": {
     "end_time": "2024-12-12T12:56:15.952677Z",
     "start_time": "2024-12-12T12:56:15.940589Z"
    }
   },
   "cell_type": "code",
   "source": [
    "# 如果直接输出的话就是新函数的信息\n",
    "time_counter3(func)"
   ],
   "id": "fd5181e806f12882",
   "outputs": [
    {
     "data": {
      "text/plain": [
       "<function __main__.func()>"
      ]
     },
     "execution_count": 369,
     "metadata": {},
     "output_type": "execute_result"
    }
   ],
   "execution_count": 369
  },
  {
   "metadata": {
    "ExecuteTime": {
     "end_time": "2024-12-12T12:56:16.015305Z",
     "start_time": "2024-12-12T12:56:16.004053Z"
    }
   },
   "cell_type": "code",
   "source": [
    "# 直接装饰\n",
    "@time_counter3\n",
    "def func_1():\n",
    "    print(\"成都永远的红\")\n",
    "    \n",
    "func_1()"
   ],
   "id": "8ad72d197ce37db2",
   "outputs": [
    {
     "name": "stdout",
     "output_type": "stream",
     "text": [
      "成都永远的红\n",
      "func_1 execution time: 0.0011301040649414062 s\n"
     ]
    }
   ],
   "execution_count": 370
  },
  {
   "metadata": {},
   "cell_type": "markdown",
   "source": "## 2 利用装饰器为函数加入日志功能",
   "id": "f9d31fdeaf2b46bd"
  },
  {
   "metadata": {
    "ExecuteTime": {
     "end_time": "2024-12-12T12:56:16.124058Z",
     "start_time": "2024-12-12T12:56:16.111883Z"
    }
   },
   "cell_type": "code",
   "source": [
    "from datetime import datetime,timezone\n",
    "\n",
    "def logger(fn):\n",
    "    def inner(*args,**kwargs):\n",
    "        called_at=datetime.now()\n",
    "        to_execute=fn(*args,**kwargs)\n",
    "        print(f\"{fn.__name__} executed. Logged at {called_at}\")\n",
    "        return to_execute # 一定要返回函数的执行结果，否则导致装饰后的函数出错\n",
    "    \n",
    "    return inner"
   ],
   "id": "d5025e492832a720",
   "outputs": [],
   "execution_count": 371
  },
  {
   "metadata": {
    "ExecuteTime": {
     "end_time": "2024-12-12T12:56:16.155033Z",
     "start_time": "2024-12-12T12:56:16.143021Z"
    }
   },
   "cell_type": "code",
   "source": [
    "@logger\n",
    "def func_2():\n",
    "    print(\"不惧暴雨和狂风\")\n",
    "\n",
    "func_2()"
   ],
   "id": "4e792929b3adc942",
   "outputs": [
    {
     "name": "stdout",
     "output_type": "stream",
     "text": [
      "不惧暴雨和狂风\n",
      "func_2 executed. Logged at 2024-12-12 20:56:16.145028\n"
     ]
    }
   ],
   "execution_count": 372
  },
  {
   "metadata": {},
   "cell_type": "markdown",
   "source": "## 3\n",
   "id": "f1c335217633b59b"
  },
  {
   "metadata": {
    "ExecuteTime": {
     "end_time": "2024-12-12T12:56:16.201852Z",
     "start_time": "2024-12-12T12:56:16.187592Z"
    }
   },
   "cell_type": "code",
   "source": [
    "@logger\n",
    "@time_counter3\n",
    "def foo(x):\n",
    "    sum_=0\n",
    "    for i in range(x):\n",
    "        sum_+=i**2\n",
    "    return sum_\n",
    "\n",
    "a=foo(2) #左闭右开区间，所以只有1"
   ],
   "id": "fc6361cded76d156",
   "outputs": [
    {
     "name": "stdout",
     "output_type": "stream",
     "text": [
      "foo execution time: 0.0 s\n",
      "foo executed. Logged at 2024-12-12 20:56:16.189597\n"
     ]
    }
   ],
   "execution_count": 373
  },
  {
   "metadata": {
    "ExecuteTime": {
     "end_time": "2024-12-12T12:56:16.233833Z",
     "start_time": "2024-12-12T12:56:16.221846Z"
    }
   },
   "cell_type": "code",
   "source": "a",
   "id": "7d2cf6e0a408e49f",
   "outputs": [
    {
     "data": {
      "text/plain": [
       "1"
      ]
     },
     "execution_count": 374,
     "metadata": {},
     "output_type": "execute_result"
    }
   ],
   "execution_count": 374
  },
  {
   "metadata": {
    "ExecuteTime": {
     "end_time": "2024-12-12T12:56:16.280392Z",
     "start_time": "2024-12-12T12:56:16.270467Z"
    }
   },
   "cell_type": "code",
   "source": "foo(1000)",
   "id": "76167d33460737b3",
   "outputs": [
    {
     "name": "stdout",
     "output_type": "stream",
     "text": [
      "foo execution time: 0.0 s\n",
      "foo executed. Logged at 2024-12-12 20:56:16.272730\n"
     ]
    },
    {
     "data": {
      "text/plain": [
       "332833500"
      ]
     },
     "execution_count": 375,
     "metadata": {},
     "output_type": "execute_result"
    }
   ],
   "execution_count": 375
  },
  {
   "metadata": {
    "ExecuteTime": {
     "end_time": "2024-12-12T12:56:16.356886Z",
     "start_time": "2024-12-12T12:56:16.339967Z"
    }
   },
   "cell_type": "code",
   "source": "",
   "id": "ad2a56ad4688cc95",
   "outputs": [],
   "execution_count": null
  },
  {
   "metadata": {},
   "cell_type": "markdown",
   "source": "## 4 带参数的装饰器",
   "id": "7e0168acb819b165"
  },
  {
   "metadata": {},
   "cell_type": "markdown",
   "source": "- 带参数的装饰器，其实是在装饰器函数的外面又包裹了一个函数，使得该函数接收参数，返回的是装饰器的函数",
   "id": "28f6739e591494de"
  },
  {
   "metadata": {
    "ExecuteTime": {
     "end_time": "2024-12-12T12:56:16.402821Z",
     "start_time": "2024-12-12T12:56:16.389589Z"
    }
   },
   "cell_type": "code",
   "source": [
    "def logging(flag):\n",
    "    def decorator(fn):\n",
    "        def inner(num1,num2):\n",
    "            if flag==\"+\":\n",
    "                print(\"正在加\")\n",
    "            elif flag==\"-\":\n",
    "                print(\"正在减\")\n",
    "            result=fn(num1,num2)\n",
    "            print(f\"result:{result}\")\n",
    "            return result\n",
    "        \n",
    "        return inner\n",
    "    \n",
    "    return decorator\n"
   ],
   "id": "20d4ffb163f42c06",
   "outputs": [],
   "execution_count": 376
  },
  {
   "metadata": {
    "ExecuteTime": {
     "end_time": "2024-12-12T12:56:16.434848Z",
     "start_time": "2024-12-12T12:56:16.419941Z"
    }
   },
   "cell_type": "code",
   "source": [
    "@logging(\"+\")\n",
    "def add(a,b):\n",
    "    return a+b\n",
    "\n",
    "@logging(\"-\")\n",
    "def sub(a,b):\n",
    "    return a-b\n",
    "\n",
    "add(1,3)\n",
    "sub(1,3)"
   ],
   "id": "6f8e04a6e571b0bf",
   "outputs": [
    {
     "name": "stdout",
     "output_type": "stream",
     "text": [
      "正在加\n",
      "result:4\n",
      "正在减\n",
      "result:-2\n"
     ]
    },
    {
     "data": {
      "text/plain": [
       "-2"
      ]
     },
     "execution_count": 377,
     "metadata": {},
     "output_type": "execute_result"
    }
   ],
   "execution_count": 377
  },
  {
   "metadata": {},
   "cell_type": "markdown",
   "source": "## 5 多个装饰器",
   "id": "47d4caed981a09e7"
  },
  {
   "metadata": {
    "ExecuteTime": {
     "end_time": "2024-12-12T12:56:16.497276Z",
     "start_time": "2024-12-12T12:56:16.477453Z"
    }
   },
   "cell_type": "code",
   "source": [
    "def make_bold(fn):\n",
    "    def wrapped():\n",
    "        return \"<b>\"+fn()+\"</b>\"\n",
    "    \n",
    "    return wrapped\n",
    "\n",
    "def make_italic(fn):\n",
    "    def wrapped():\n",
    "        return \"<i>\"+fn()+\"</i>\"\n",
    "    \n",
    "    return wrapped\n",
    "\n",
    "@make_bold\n",
    "@make_italic #先调用，在里面一层\n",
    "def func_3():\n",
    "    return \"热血流在心中\"\n",
    "    \n",
    "func_3()\n",
    "        "
   ],
   "id": "61aeb356b0df8dd5",
   "outputs": [
    {
     "data": {
      "text/plain": [
       "'<b><i>热血流在心中</i></b>'"
      ]
     },
     "execution_count": 378,
     "metadata": {},
     "output_type": "execute_result"
    }
   ],
   "execution_count": 378
  },
  {
   "metadata": {},
   "cell_type": "markdown",
   "source": "## 6 多个带参数函数装饰器",
   "id": "18c2aa8d1d10f756"
  },
  {
   "metadata": {
    "ExecuteTime": {
     "end_time": "2024-12-12T12:56:16.528275Z",
     "start_time": "2024-12-12T12:56:16.516267Z"
    }
   },
   "cell_type": "code",
   "source": [
    "def make_html_tag(tag,*args,**kwargs):\n",
    "    def real_decorator(fn):\n",
    "        css_class=\"class='{0}'\".format(kwargs[\"css_class\"] if \"css_class\" in kwargs else \"\")\n",
    "        \n",
    "        def wrapped(*args,**kwargs):\n",
    "            return \"<\"+tag+css_class+\">\"+fn(*args,**kwargs)+\"</\"+tag+\">\"\n",
    "        \n",
    "        return wrapped\n",
    "    \n",
    "    return real_decorator\n",
    "\n",
    "@make_html_tag(tag=\"b\",css_class=\"bold_css\")\n",
    "@make_html_tag(tag=\"i\",css_class=\"bold_i\")\n",
    "def func_4():\n",
    "    return \"坚持最初的梦\"\n",
    "\n",
    "func_4()"
   ],
   "id": "fc03f7329ce290e1",
   "outputs": [
    {
     "data": {
      "text/plain": [
       "\"<bclass='bold_css'><iclass='bold_i'>坚持最初的梦</i></b>\""
      ]
     },
     "execution_count": 379,
     "metadata": {},
     "output_type": "execute_result"
    }
   ],
   "execution_count": 379
  },
  {
   "metadata": {},
   "cell_type": "markdown",
   "source": "## 7 类装饰器",
   "id": "543dc449421a03f8"
  },
  {
   "metadata": {
    "ExecuteTime": {
     "end_time": "2024-12-12T12:56:16.559586Z",
     "start_time": "2024-12-12T12:56:16.553270Z"
    }
   },
   "cell_type": "code",
   "source": [
    "class Decorator:\n",
    "    def __init__(self,fn):\n",
    "        print(\"inside Decorator.__init__()\")\n",
    "        self.fn=fn\n",
    "        \n",
    "    def __call__(self,*args,**kwargs):\n",
    "        self.fn(*args,**kwargs)\n",
    "        print(\"inside Decorator.__call__()\")\n",
    "        \n",
    "@Decorator\n",
    "def func_5():\n",
    "    print(\"南看台的战士永不怕失败\")"
   ],
   "id": "b85523bf50fe7115",
   "outputs": [
    {
     "name": "stdout",
     "output_type": "stream",
     "text": [
      "inside Decorator.__init__()\n"
     ]
    }
   ],
   "execution_count": 380
  },
  {
   "metadata": {
    "ExecuteTime": {
     "end_time": "2024-12-12T12:56:16.654112Z",
     "start_time": "2024-12-12T12:56:16.638502Z"
    }
   },
   "cell_type": "code",
   "source": "func_5()",
   "id": "dc3380f99d597057",
   "outputs": [
    {
     "name": "stdout",
     "output_type": "stream",
     "text": [
      "南看台的战士永不怕失败\n",
      "inside Decorator.__call__()\n"
     ]
    }
   ],
   "execution_count": 381
  },
  {
   "metadata": {},
   "cell_type": "markdown",
   "source": "## 8 多个带参数类装饰器",
   "id": "3b19563510290e84"
  },
  {
   "metadata": {
    "ExecuteTime": {
     "end_time": "2024-12-12T12:56:16.778804Z",
     "start_time": "2024-12-12T12:56:16.760162Z"
    }
   },
   "cell_type": "code",
   "source": [
    "class MakeHtmlTag:\n",
    "    def __init__(self,tag,css_class=\"\",*args,**kwargs):\n",
    "        self._tag=tag\n",
    "        self._css_class=\" class='{0}'\".format(css_class) if css_class!=\"\" else \"\"\n",
    "    \n",
    "    def __call__(self,fn,*args,**kwargs):\n",
    "        def wrapped(*args,**kwargs):\n",
    "            return \"<\"+self._tag+self._css_class+\">\"+fn(*args,**kwargs)+\"</\"+self._tag+\">\"\n",
    "        \n",
    "        return wrapped\n",
    "    "
   ],
   "id": "ee5e4996db72f6b8",
   "outputs": [],
   "execution_count": 382
  },
  {
   "metadata": {
    "ExecuteTime": {
     "end_time": "2024-12-12T12:56:16.809600Z",
     "start_time": "2024-12-12T12:56:16.798100Z"
    }
   },
   "cell_type": "code",
   "source": [
    "@MakeHtmlTag(tag=\"b\",css_class=\"bold_css\")\n",
    "@MakeHtmlTag(tag=\"i\",css_class=\"bold_i\")\n",
    "def func_6(name):\n",
    "    return \"Hello,{}!\".format(name)\n",
    "\n",
    "func_6('Ganchao')"
   ],
   "id": "dccd33ddee3c5404",
   "outputs": [
    {
     "data": {
      "text/plain": [
       "\"<b class='bold_css'><i class='bold_i'>Hello,Ganchao!</i></b>\""
      ]
     },
     "execution_count": 383,
     "metadata": {},
     "output_type": "execute_result"
    }
   ],
   "execution_count": 383
  },
  {
   "metadata": {},
   "cell_type": "markdown",
   "source": "## 9 装饰类",
   "id": "4e9a4bb515eaa047"
  },
  {
   "metadata": {
    "ExecuteTime": {
     "end_time": "2024-12-12T12:56:16.871644Z",
     "start_time": "2024-12-12T12:56:16.862113Z"
    }
   },
   "cell_type": "code",
   "source": [
    "def refac_str(cls):\n",
    "    def __str__(self):\n",
    "        return str(self.__dict__)\n",
    "    \n",
    "    cls.__str__ = __str__\n",
    "    return cls"
   ],
   "id": "d49519ed77735b9a",
   "outputs": [],
   "execution_count": 384
  },
  {
   "metadata": {
    "ExecuteTime": {
     "end_time": "2024-12-12T12:56:16.902381Z",
     "start_time": "2024-12-12T12:56:16.890373Z"
    }
   },
   "cell_type": "code",
   "source": [
    "@refac_str\n",
    "class MyClass:\n",
    "    def __init__(self,x,y):\n",
    "        self.x=x\n",
    "        self.y=y\n",
    "        "
   ],
   "id": "7c7541dff76cd011",
   "outputs": [],
   "execution_count": 385
  },
  {
   "metadata": {
    "ExecuteTime": {
     "end_time": "2024-12-12T12:56:16.933806Z",
     "start_time": "2024-12-12T12:56:16.919438Z"
    }
   },
   "cell_type": "code",
   "source": "print(MyClass(39,11))",
   "id": "809fb71ca351ccc5",
   "outputs": [
    {
     "name": "stdout",
     "output_type": "stream",
     "text": [
      "{'x': 39, 'y': 11}\n"
     ]
    }
   ],
   "execution_count": 386
  },
  {
   "metadata": {},
   "cell_type": "markdown",
   "source": "## 10 装饰器的副作用",
   "id": "622f6a5cd81d27cf"
  },
  {
   "metadata": {
    "ExecuteTime": {
     "end_time": "2024-12-12T12:56:16.965832Z",
     "start_time": "2024-12-12T12:56:16.950815Z"
    }
   },
   "cell_type": "code",
   "source": [
    "@time_counter3\n",
    "def func_7():\n",
    "    print(\"高举拳头创造我们的时代\")\n",
    "    \n",
    "func_7()"
   ],
   "id": "673c581b2891fd7c",
   "outputs": [
    {
     "name": "stdout",
     "output_type": "stream",
     "text": [
      "高举拳头创造我们的时代\n",
      "func_7 execution time: 0.0 s\n"
     ]
    }
   ],
   "execution_count": 387
  },
  {
   "metadata": {
    "ExecuteTime": {
     "end_time": "2024-12-12T12:56:16.996904Z",
     "start_time": "2024-12-12T12:56:16.982530Z"
    }
   },
   "cell_type": "code",
   "source": "func_7.__name__",
   "id": "b28ac12cb14b2b14",
   "outputs": [
    {
     "data": {
      "text/plain": [
       "'func_7'"
      ]
     },
     "execution_count": 388,
     "metadata": {},
     "output_type": "execute_result"
    }
   ],
   "execution_count": 388
  },
  {
   "metadata": {},
   "cell_type": "markdown",
   "source": "- 解决方法：引入装饰器的内部函数，@wraps(func)",
   "id": "869c9fb4a8ade865"
  },
  {
   "metadata": {
    "ExecuteTime": {
     "end_time": "2024-12-12T12:56:17.027751Z",
     "start_time": "2024-12-12T12:56:17.013605Z"
    }
   },
   "cell_type": "code",
   "source": "",
   "id": "7300ef016c52fc15",
   "outputs": [],
   "execution_count": null
  },
  {
   "metadata": {},
   "cell_type": "markdown",
   "source": "## 11 装饰器的应用案例",
   "id": "77997d64b1dc538d"
  },
  {
   "metadata": {
    "ExecuteTime": {
     "end_time": "2024-12-12T13:00:15.843106Z",
     "start_time": "2024-12-12T13:00:15.824027Z"
    }
   },
   "cell_type": "code",
   "source": [
    "def fib(n):\n",
    "    print(f\"calculating term -{n}\")\n",
    "    if n<3:\n",
    "        return 1\n",
    "    else:\n",
    "        return fib(n-1)+fib(n-2)"
   ],
   "id": "9963eb8b7e2e1938",
   "outputs": [],
   "execution_count": 389
  },
  {
   "metadata": {
    "ExecuteTime": {
     "end_time": "2024-12-12T13:00:40.223147Z",
     "start_time": "2024-12-12T13:00:40.207138Z"
    }
   },
   "cell_type": "code",
   "source": "print(f\"6th:{fib(6)}\")",
   "id": "ec421d663ca6d9fd",
   "outputs": [
    {
     "name": "stdout",
     "output_type": "stream",
     "text": [
      "calculating term -6\n",
      "calculating term -5\n",
      "calculating term -4\n",
      "calculating term -3\n",
      "calculating term -2\n",
      "calculating term -1\n",
      "calculating term -2\n",
      "calculating term -3\n",
      "calculating term -2\n",
      "calculating term -1\n",
      "calculating term -4\n",
      "calculating term -3\n",
      "calculating term -2\n",
      "calculating term -1\n",
      "calculating term -2\n",
      "6th:8\n"
     ]
    }
   ],
   "execution_count": 390
  },
  {
   "metadata": {
    "ExecuteTime": {
     "end_time": "2024-12-12T13:02:13.597482Z",
     "start_time": "2024-12-12T13:02:13.576637Z"
    }
   },
   "cell_type": "code",
   "source": [
    "def memorizer(fn):\n",
    "    cache={}\n",
    "    \n",
    "    def inner(n):\n",
    "        if n not in cache:\n",
    "            cache[n]=fn(n)\n",
    "        \n",
    "        return cache[n]\n",
    "    \n",
    "    return inner"
   ],
   "id": "4961965d256db7ba",
   "outputs": [],
   "execution_count": 391
  },
  {
   "metadata": {
    "ExecuteTime": {
     "end_time": "2024-12-12T13:03:19.618942Z",
     "start_time": "2024-12-12T13:03:19.606279Z"
    }
   },
   "cell_type": "code",
   "source": [
    "@memorizer\n",
    "def fib_1(n):\n",
    "    print(f\"calculating term -{n}\")\n",
    "    if n<3:\n",
    "        return 1\n",
    "    else:\n",
    "        return fib(n-1)+fib(n-2)"
   ],
   "id": "9a8229ee4adb602",
   "outputs": [],
   "execution_count": 392
  },
  {
   "metadata": {
    "ExecuteTime": {
     "end_time": "2024-12-12T13:03:40.168296Z",
     "start_time": "2024-12-12T13:03:40.159440Z"
    }
   },
   "cell_type": "code",
   "source": "print(f\"8th:{fib_1(8)}\")",
   "id": "5f6599e9da582057",
   "outputs": [
    {
     "name": "stdout",
     "output_type": "stream",
     "text": [
      "calculating term -8\n",
      "calculating term -7\n",
      "calculating term -6\n",
      "calculating term -5\n",
      "calculating term -4\n",
      "calculating term -3\n",
      "calculating term -2\n",
      "calculating term -1\n",
      "calculating term -2\n",
      "calculating term -3\n",
      "calculating term -2\n",
      "calculating term -1\n",
      "calculating term -4\n",
      "calculating term -3\n",
      "calculating term -2\n",
      "calculating term -1\n",
      "calculating term -2\n",
      "calculating term -5\n",
      "calculating term -4\n",
      "calculating term -3\n",
      "calculating term -2\n",
      "calculating term -1\n",
      "calculating term -2\n",
      "calculating term -3\n",
      "calculating term -2\n",
      "calculating term -1\n",
      "calculating term -6\n",
      "calculating term -5\n",
      "calculating term -4\n",
      "calculating term -3\n",
      "calculating term -2\n",
      "calculating term -1\n",
      "calculating term -2\n",
      "calculating term -3\n",
      "calculating term -2\n",
      "calculating term -1\n",
      "calculating term -4\n",
      "calculating term -3\n",
      "calculating term -2\n",
      "calculating term -1\n",
      "calculating term -2\n",
      "8th:21\n"
     ]
    }
   ],
   "execution_count": 393
  }
 ],
 "metadata": {
  "kernelspec": {
   "display_name": "Python 3",
   "language": "python",
   "name": "python3"
  },
  "language_info": {
   "codemirror_mode": {
    "name": "ipython",
    "version": 2
   },
   "file_extension": ".py",
   "mimetype": "text/x-python",
   "name": "python",
   "nbconvert_exporter": "python",
   "pygments_lexer": "ipython2",
   "version": "2.7.6"
  }
 },
 "nbformat": 4,
 "nbformat_minor": 5
}
