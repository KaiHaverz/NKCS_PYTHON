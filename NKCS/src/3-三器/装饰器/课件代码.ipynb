{
 "cells": [
  {
   "metadata": {},
   "cell_type": "markdown",
   "source": "# 装饰器 Decorator",
   "id": "8c16aebd626a7db6"
  },
  {
   "metadata": {
    "ExecuteTime": {
     "end_time": "2024-12-12T11:52:35.389190Z",
     "start_time": "2024-12-12T11:52:35.374025Z"
    }
   },
   "cell_type": "code",
   "source": [
    "def func():\n",
    "    print(\"Hello,world!\")\n",
    "    return \n",
    "    \n",
    "func()"
   ],
   "id": "e19363dd9be4d92c",
   "outputs": [
    {
     "name": "stdout",
     "output_type": "stream",
     "text": [
      "Hello,world!\n"
     ]
    }
   ],
   "execution_count": 211
  },
  {
   "metadata": {
    "ExecuteTime": {
     "end_time": "2024-12-12T11:52:35.419700Z",
     "start_time": "2024-12-12T11:52:35.405702Z"
    }
   },
   "cell_type": "code",
   "source": [
    "import time \n",
    "\n",
    "def time_counter():\n",
    "    start=time.time()\n",
    "    print(\"Hello,world!\")\n",
    "    end=time.time()\n",
    "    return end-start\n",
    "\n"
   ],
   "id": "e918af92aed573f7",
   "outputs": [],
   "execution_count": 212
  },
  {
   "metadata": {
    "ExecuteTime": {
     "end_time": "2024-12-12T11:52:35.450702Z",
     "start_time": "2024-12-12T11:52:35.437706Z"
    }
   },
   "cell_type": "code",
   "source": "time_counter()",
   "id": "43e64dacca9fe770",
   "outputs": [
    {
     "name": "stdout",
     "output_type": "stream",
     "text": [
      "Hello,world!\n"
     ]
    },
    {
     "data": {
      "text/plain": [
       "0.0"
      ]
     },
     "execution_count": 213,
     "metadata": {},
     "output_type": "execute_result"
    }
   ],
   "execution_count": 213
  },
  {
   "metadata": {
    "ExecuteTime": {
     "end_time": "2024-12-12T11:52:35.497701Z",
     "start_time": "2024-12-12T11:52:35.483702Z"
    }
   },
   "cell_type": "code",
   "source": [
    "def time_counter2(fn):\n",
    "    start=time.time()\n",
    "    fn()\n",
    "    end=time.time()\n",
    "    return end-start\n"
   ],
   "id": "95bd202af1d27fb8",
   "outputs": [],
   "execution_count": 214
  },
  {
   "metadata": {
    "ExecuteTime": {
     "end_time": "2024-12-12T11:52:35.528712Z",
     "start_time": "2024-12-12T11:52:35.509704Z"
    }
   },
   "cell_type": "code",
   "source": "time_counter2(func)",
   "id": "8baf680817054122",
   "outputs": [
    {
     "name": "stdout",
     "output_type": "stream",
     "text": [
      "Hello,world!\n"
     ]
    },
    {
     "data": {
      "text/plain": [
       "0.0009870529174804688"
      ]
     },
     "execution_count": 215,
     "metadata": {},
     "output_type": "execute_result"
    }
   ],
   "execution_count": 215
  },
  {
   "metadata": {
    "ExecuteTime": {
     "end_time": "2024-12-12T11:52:35.560702Z",
     "start_time": "2024-12-12T11:52:35.545700Z"
    }
   },
   "cell_type": "code",
   "source": [
    "# 改进一下\n",
    "def time_counter3(fn):\n",
    "    def wrapper(*args,**kwargs):\n",
    "        start=time.time()\n",
    "        result=fn(*args,**kwargs)\n",
    "        end=time.time()\n",
    "        print(f\"{fn.__name__} execution time: {end-start} s\")\n",
    "        return result\n",
    "    \n",
    "    return wrapper"
   ],
   "id": "549b61bebf2bfcdb",
   "outputs": [],
   "execution_count": 216
  },
  {
   "metadata": {
    "ExecuteTime": {
     "end_time": "2024-12-12T11:52:35.592703Z",
     "start_time": "2024-12-12T11:52:35.578700Z"
    }
   },
   "cell_type": "code",
   "source": [
    "func=time_counter3(func)\n",
    "func()"
   ],
   "id": "71495b33ab09566f",
   "outputs": [
    {
     "name": "stdout",
     "output_type": "stream",
     "text": [
      "Hello,world!\n",
      "func execution time: 0.0010013580322265625 s\n"
     ]
    }
   ],
   "execution_count": 217
  },
  {
   "metadata": {
    "ExecuteTime": {
     "end_time": "2024-12-12T11:52:35.624700Z",
     "start_time": "2024-12-12T11:52:35.611702Z"
    }
   },
   "cell_type": "code",
   "source": [
    "# 如果直接输出的话就是新函数的信息\n",
    "time_counter3(func)"
   ],
   "id": "fd5181e806f12882",
   "outputs": [
    {
     "data": {
      "text/plain": [
       "<function __main__.time_counter3.<locals>.wrapper(*args, **kwargs)>"
      ]
     },
     "execution_count": 218,
     "metadata": {},
     "output_type": "execute_result"
    }
   ],
   "execution_count": 218
  },
  {
   "metadata": {
    "ExecuteTime": {
     "end_time": "2024-12-12T11:52:35.656266Z",
     "start_time": "2024-12-12T11:52:35.642701Z"
    }
   },
   "cell_type": "code",
   "source": [
    "# 直接装饰\n",
    "@time_counter3\n",
    "def func_1():\n",
    "    print(\"成都永远的红\")\n",
    "    \n",
    "func_1()"
   ],
   "id": "8ad72d197ce37db2",
   "outputs": [
    {
     "name": "stdout",
     "output_type": "stream",
     "text": [
      "成都永远的红\n",
      "func_1 execution time: 0.0 s\n"
     ]
    }
   ],
   "execution_count": 219
  },
  {
   "metadata": {},
   "cell_type": "markdown",
   "source": "## 2 利用装饰器为函数加入日志功能",
   "id": "f9d31fdeaf2b46bd"
  },
  {
   "metadata": {
    "ExecuteTime": {
     "end_time": "2024-12-12T11:52:35.687728Z",
     "start_time": "2024-12-12T11:52:35.674465Z"
    }
   },
   "cell_type": "code",
   "source": [
    "from datetime import datetime,timezone\n",
    "\n",
    "def logger(fn):\n",
    "    def inner(*args,**kwargs):\n",
    "        called_at=datetime.now()\n",
    "        to_execute=fn(*args,**kwargs)\n",
    "        print(f\"{fn.__name__} executed. Logged at {called_at}\")\n",
    "        return to_execute # 一定要返回函数的执行结果，否则导致装饰后的函数出错\n",
    "    \n",
    "    return inner"
   ],
   "id": "d5025e492832a720",
   "outputs": [],
   "execution_count": 220
  },
  {
   "metadata": {
    "ExecuteTime": {
     "end_time": "2024-12-12T11:52:35.720305Z",
     "start_time": "2024-12-12T11:52:35.705982Z"
    }
   },
   "cell_type": "code",
   "source": [
    "@logger\n",
    "def func_2():\n",
    "    print(\"不惧暴雨和狂风\")\n",
    "\n",
    "func_2()"
   ],
   "id": "4e792929b3adc942",
   "outputs": [
    {
     "name": "stdout",
     "output_type": "stream",
     "text": [
      "不惧暴雨和狂风\n",
      "func_2 executed. Logged at 2024-12-12 19:52:35.708339\n"
     ]
    }
   ],
   "execution_count": 221
  },
  {
   "metadata": {},
   "cell_type": "markdown",
   "source": "## 3\n",
   "id": "f1c335217633b59b"
  },
  {
   "metadata": {
    "ExecuteTime": {
     "end_time": "2024-12-12T11:52:35.751921Z",
     "start_time": "2024-12-12T11:52:35.738105Z"
    }
   },
   "cell_type": "code",
   "source": [
    "@logger\n",
    "@time_counter3\n",
    "def foo(x):\n",
    "    sum_=0\n",
    "    for i in range(x):\n",
    "        sum_+=i**2\n",
    "    return sum_\n",
    "\n",
    "a=foo(2) #左闭右开区间，所以只有1"
   ],
   "id": "fc6361cded76d156",
   "outputs": [
    {
     "name": "stdout",
     "output_type": "stream",
     "text": [
      "foo execution time: 0.0 s\n",
      "wrapper executed. Logged at 2024-12-12 19:52:35.740447\n"
     ]
    }
   ],
   "execution_count": 222
  },
  {
   "metadata": {
    "ExecuteTime": {
     "end_time": "2024-12-12T11:52:35.844318Z",
     "start_time": "2024-12-12T11:52:35.830499Z"
    }
   },
   "cell_type": "code",
   "source": "a",
   "id": "7d2cf6e0a408e49f",
   "outputs": [
    {
     "data": {
      "text/plain": [
       "1"
      ]
     },
     "execution_count": 223,
     "metadata": {},
     "output_type": "execute_result"
    }
   ],
   "execution_count": 223
  },
  {
   "metadata": {
    "ExecuteTime": {
     "end_time": "2024-12-12T11:52:35.936942Z",
     "start_time": "2024-12-12T11:52:35.929033Z"
    }
   },
   "cell_type": "code",
   "source": "foo(1000)",
   "id": "76167d33460737b3",
   "outputs": [
    {
     "name": "stdout",
     "output_type": "stream",
     "text": [
      "foo execution time: 0.0 s\n",
      "wrapper executed. Logged at 2024-12-12 19:52:35.931032\n"
     ]
    },
    {
     "data": {
      "text/plain": [
       "332833500"
      ]
     },
     "execution_count": 224,
     "metadata": {},
     "output_type": "execute_result"
    }
   ],
   "execution_count": 224
  },
  {
   "metadata": {
    "ExecuteTime": {
     "end_time": "2024-12-12T11:52:36.046495Z",
     "start_time": "2024-12-12T11:52:36.035892Z"
    }
   },
   "cell_type": "code",
   "source": "",
   "id": "ad2a56ad4688cc95",
   "outputs": [],
   "execution_count": null
  },
  {
   "metadata": {},
   "cell_type": "markdown",
   "source": "## 4 带参数的装饰器",
   "id": "7e0168acb819b165"
  },
  {
   "metadata": {},
   "cell_type": "markdown",
   "source": "- 带参数的装饰器，其实是在装饰器函数的外面又包裹了一个函数，使得该函数接收参数，返回的是装饰器的函数",
   "id": "28f6739e591494de"
  },
  {
   "metadata": {
    "ExecuteTime": {
     "end_time": "2024-12-12T11:57:05.366386Z",
     "start_time": "2024-12-12T11:57:05.355133Z"
    }
   },
   "cell_type": "code",
   "source": [
    "def logging(flag):\n",
    "    def decorator(fn):\n",
    "        def inner(num1,num2):\n",
    "            if flag==\"+\":\n",
    "                print(\"正在加\")\n",
    "            elif flag==\"-\":\n",
    "                print(\"正在减\")\n",
    "            result=fn(num1,num2)\n",
    "            return result\n",
    "        \n",
    "        return inner\n",
    "    \n",
    "    return decorator\n"
   ],
   "id": "20d4ffb163f42c06",
   "outputs": [],
   "execution_count": 226
  },
  {
   "metadata": {
    "ExecuteTime": {
     "end_time": "2024-12-12T11:58:04.271407Z",
     "start_time": "2024-12-12T11:58:04.254783Z"
    }
   },
   "cell_type": "code",
   "source": [
    "@logging(\"+\")\n",
    "def add(a,b):\n",
    "    return a+b\n",
    "\n",
    "@logging(\"-\")\n",
    "def sub(a,b):\n",
    "    return a-b\n",
    "\n",
    "add(1,3)\n",
    "sub(1,3)"
   ],
   "id": "6f8e04a6e571b0bf",
   "outputs": [
    {
     "name": "stdout",
     "output_type": "stream",
     "text": [
      "正在加\n",
      "正在减\n"
     ]
    },
    {
     "data": {
      "text/plain": [
       "-2"
      ]
     },
     "execution_count": 227,
     "metadata": {},
     "output_type": "execute_result"
    }
   ],
   "execution_count": 227
  }
 ],
 "metadata": {
  "kernelspec": {
   "display_name": "Python 3",
   "language": "python",
   "name": "python3"
  },
  "language_info": {
   "codemirror_mode": {
    "name": "ipython",
    "version": 2
   },
   "file_extension": ".py",
   "mimetype": "text/x-python",
   "name": "python",
   "nbconvert_exporter": "python",
   "pygments_lexer": "ipython2",
   "version": "2.7.6"
  }
 },
 "nbformat": 4,
 "nbformat_minor": 5
}
