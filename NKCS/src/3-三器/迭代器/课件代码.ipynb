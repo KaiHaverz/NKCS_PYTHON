{
 "cells": [
  {
   "metadata": {},
   "cell_type": "markdown",
   "source": "# 迭代器",
   "id": "290b0ecba601640e"
  },
  {
   "metadata": {},
   "cell_type": "markdown",
   "source": [
    "## 1 可迭代对象\n",
    "- 每次能返回其一个成员的对象，即实现了 _iter_() 或 _getitem_() 协议的对象\n",
    "- Python提供了两个通用迭代器对象：\n",
    "    - 序列对象: list,str,tuple\n",
    "    - 非序列对象：dict file objects\n",
    "- 可迭代对象可用于 for 循环，及其它需要序列的地方(zip(),map())\n",
    "- 使用内置函数 iter(), 或者 __iter__()方法，可将可迭代对象转换为迭代器 iterator"
   ],
   "id": "7b43b4be9356cbe9"
  },
  {
   "metadata": {
    "ExecuteTime": {
     "end_time": "2024-12-12T13:15:31.271142Z",
     "start_time": "2024-12-12T13:15:31.265446Z"
    }
   },
   "cell_type": "code",
   "source": [
    "class Reverse:\n",
    "    \n",
    "    def __init__(self,data):\n",
    "        self.data=data\n",
    "        self.index=len(data)\n",
    "        \n",
    "    def __iter__(self):\n",
    "        return self\n",
    "    \n",
    "    def __next__(self):\n",
    "        if self.index==0:\n",
    "            raise StopIteration\n",
    "        self.index-=1\n",
    "        return self.data[self.index]"
   ],
   "id": "3825c65207ba7897",
   "outputs": [],
   "execution_count": 2
  },
  {
   "metadata": {
    "ExecuteTime": {
     "end_time": "2024-12-12T13:17:02.211459Z",
     "start_time": "2024-12-12T13:17:02.198341Z"
    }
   },
   "cell_type": "code",
   "source": [
    "def fib(max):\n",
    "    n,a,b=0,0,1\n",
    "    while n<max:\n",
    "        print(b)\n",
    "        a,b=b,a+b\n",
    "        n+=1\n",
    "    \n",
    "    return \"done!\""
   ],
   "id": "de4d03d51c8539b6",
   "outputs": [],
   "execution_count": 3
  },
  {
   "metadata": {
    "ExecuteTime": {
     "end_time": "2024-12-12T13:17:10.759838Z",
     "start_time": "2024-12-12T13:17:10.743281Z"
    }
   },
   "cell_type": "code",
   "source": "fib(10)",
   "id": "2aa99c461f963f41",
   "outputs": [
    {
     "name": "stdout",
     "output_type": "stream",
     "text": [
      "1\n",
      "1\n",
      "2\n",
      "3\n",
      "5\n",
      "8\n",
      "13\n",
      "21\n",
      "34\n",
      "55\n"
     ]
    },
    {
     "data": {
      "text/plain": [
       "'done!'"
      ]
     },
     "execution_count": 4,
     "metadata": {},
     "output_type": "execute_result"
    }
   ],
   "execution_count": 4
  },
  {
   "metadata": {},
   "cell_type": "markdown",
   "source": [
    "# 2 生成器\n",
    "- 是特殊的迭代器"
   ],
   "id": "f4e499089bd256e9"
  },
  {
   "metadata": {
    "ExecuteTime": {
     "end_time": "2024-12-12T13:18:44.917935Z",
     "start_time": "2024-12-12T13:18:44.904446Z"
    }
   },
   "cell_type": "code",
   "source": [
    "def func():\n",
    "    for x in range(6):\n",
    "        yield x\n",
    "        \n",
    "func()"
   ],
   "id": "e20214ac7729eb32",
   "outputs": [
    {
     "data": {
      "text/plain": [
       "<generator object func at 0x000001B3E9F93840>"
      ]
     },
     "execution_count": 10,
     "metadata": {},
     "output_type": "execute_result"
    }
   ],
   "execution_count": 10
  }
 ],
 "metadata": {
  "kernelspec": {
   "display_name": "Python 3",
   "language": "python",
   "name": "python3"
  },
  "language_info": {
   "codemirror_mode": {
    "name": "ipython",
    "version": 2
   },
   "file_extension": ".py",
   "mimetype": "text/x-python",
   "name": "python",
   "nbconvert_exporter": "python",
   "pygments_lexer": "ipython2",
   "version": "2.7.6"
  }
 },
 "nbformat": 4,
 "nbformat_minor": 5
}
