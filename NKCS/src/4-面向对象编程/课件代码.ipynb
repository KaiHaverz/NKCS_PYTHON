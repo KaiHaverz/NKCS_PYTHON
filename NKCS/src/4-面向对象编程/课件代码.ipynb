{
 "cells": [
  {
   "metadata": {},
   "cell_type": "markdown",
   "source": "# 06 面向对象编程",
   "id": "ec07a757e8602ae5"
  },
  {
   "metadata": {},
   "cell_type": "markdown",
   "source": "## 1. 如何定义类",
   "id": "4af90c46d312d19d"
  },
  {
   "cell_type": "code",
   "id": "initial_id",
   "metadata": {
    "collapsed": true,
    "ExecuteTime": {
     "end_time": "2024-12-13T16:17:16.869153Z",
     "start_time": "2024-12-13T16:17:16.855653Z"
    }
   },
   "source": [
    "class Human:\n",
    "    pass\n",
    "\n",
    "h=Human()"
   ],
   "outputs": [],
   "execution_count": 11
  },
  {
   "metadata": {
    "ExecuteTime": {
     "end_time": "2024-12-13T16:17:16.884654Z",
     "start_time": "2024-12-13T16:17:16.874153Z"
    }
   },
   "cell_type": "code",
   "source": "h",
   "id": "9d2ab57b2fd9c6a7",
   "outputs": [
    {
     "data": {
      "text/plain": [
       "<__main__.Human at 0x21be22c45e0>"
      ]
     },
     "execution_count": 12,
     "metadata": {},
     "output_type": "execute_result"
    }
   ],
   "execution_count": 12
  },
  {
   "metadata": {
    "ExecuteTime": {
     "end_time": "2024-12-13T16:17:16.915653Z",
     "start_time": "2024-12-13T16:17:16.907654Z"
    }
   },
   "cell_type": "code",
   "source": "dir(Human)",
   "id": "4dc82172a05eca09",
   "outputs": [
    {
     "data": {
      "text/plain": [
       "['__class__',\n",
       " '__delattr__',\n",
       " '__dict__',\n",
       " '__dir__',\n",
       " '__doc__',\n",
       " '__eq__',\n",
       " '__format__',\n",
       " '__ge__',\n",
       " '__getattribute__',\n",
       " '__gt__',\n",
       " '__hash__',\n",
       " '__init__',\n",
       " '__init_subclass__',\n",
       " '__le__',\n",
       " '__lt__',\n",
       " '__module__',\n",
       " '__ne__',\n",
       " '__new__',\n",
       " '__reduce__',\n",
       " '__reduce_ex__',\n",
       " '__repr__',\n",
       " '__setattr__',\n",
       " '__sizeof__',\n",
       " '__str__',\n",
       " '__subclasshook__',\n",
       " '__weakref__']"
      ]
     },
     "execution_count": 13,
     "metadata": {},
     "output_type": "execute_result"
    }
   ],
   "execution_count": 13
  },
  {
   "metadata": {},
   "cell_type": "markdown",
   "source": "# 四、如何定义类",
   "id": "aee47d772d71e2fa"
  },
  {
   "metadata": {},
   "cell_type": "markdown",
   "source": "## 1. 类的属性和方法",
   "id": "c3a1d20fa5850e1a"
  },
  {
   "metadata": {
    "ExecuteTime": {
     "end_time": "2024-12-13T16:17:16.946709Z",
     "start_time": "2024-12-13T16:17:16.932654Z"
    }
   },
   "cell_type": "code",
   "source": [
    "class Student:\n",
    "    #属性\n",
    "    university=\"NKU\"\n",
    "    \n",
    "    #方法（函数）\n",
    "    def take_class(self):\n",
    "        print(\"Having Python Class...\")"
   ],
   "id": "24024825a3bc1d13",
   "outputs": [],
   "execution_count": 14
  },
  {
   "metadata": {
    "ExecuteTime": {
     "end_time": "2024-12-13T16:17:16.977520Z",
     "start_time": "2024-12-13T16:17:16.964229Z"
    }
   },
   "cell_type": "code",
   "source": "lm=Student()",
   "id": "688fee32afc5d155",
   "outputs": [],
   "execution_count": 15
  },
  {
   "metadata": {
    "ExecuteTime": {
     "end_time": "2024-12-13T16:17:17.008495Z",
     "start_time": "2024-12-13T16:17:16.994759Z"
    }
   },
   "cell_type": "code",
   "source": "print(Student.university)",
   "id": "5d00418517b3d45d",
   "outputs": [
    {
     "name": "stdout",
     "output_type": "stream",
     "text": [
      "NKU\n"
     ]
    }
   ],
   "execution_count": 16
  },
  {
   "metadata": {
    "ExecuteTime": {
     "end_time": "2024-12-13T16:17:17.039093Z",
     "start_time": "2024-12-13T16:17:17.024989Z"
    }
   },
   "cell_type": "code",
   "source": "print(lm.university)",
   "id": "40795507c435430d",
   "outputs": [
    {
     "name": "stdout",
     "output_type": "stream",
     "text": [
      "NKU\n"
     ]
    }
   ],
   "execution_count": 17
  },
  {
   "metadata": {
    "ExecuteTime": {
     "end_time": "2024-12-13T16:17:17.070081Z",
     "start_time": "2024-12-13T16:17:17.056572Z"
    }
   },
   "cell_type": "code",
   "source": "lm.take_class()",
   "id": "bc7d0d77accc657f",
   "outputs": [
    {
     "name": "stdout",
     "output_type": "stream",
     "text": [
      "Having Python Class...\n"
     ]
    }
   ],
   "execution_count": 18
  },
  {
   "metadata": {
    "ExecuteTime": {
     "end_time": "2024-12-13T16:17:17.101074Z",
     "start_time": "2024-12-13T16:17:17.087565Z"
    }
   },
   "cell_type": "code",
   "source": "Student.take_class()",
   "id": "f7975f6764d6a556",
   "outputs": [
    {
     "ename": "TypeError",
     "evalue": "Student.take_class() missing 1 required positional argument: 'self'",
     "output_type": "error",
     "traceback": [
      "\u001B[1;31m---------------------------------------------------------------------------\u001B[0m",
      "\u001B[1;31mTypeError\u001B[0m                                 Traceback (most recent call last)",
      "Cell \u001B[1;32mIn[19], line 1\u001B[0m\n\u001B[1;32m----> 1\u001B[0m \u001B[43mStudent\u001B[49m\u001B[38;5;241;43m.\u001B[39;49m\u001B[43mtake_class\u001B[49m\u001B[43m(\u001B[49m\u001B[43m)\u001B[49m\n",
      "\u001B[1;31mTypeError\u001B[0m: Student.take_class() missing 1 required positional argument: 'self'"
     ]
    }
   ],
   "execution_count": 19
  },
  {
   "metadata": {
    "ExecuteTime": {
     "end_time": "2024-12-13T16:17:51.159668Z",
     "start_time": "2024-12-13T16:17:51.146651Z"
    }
   },
   "cell_type": "code",
   "source": "Student.take_class(lm)",
   "id": "97d4cc54fc80161e",
   "outputs": [
    {
     "name": "stdout",
     "output_type": "stream",
     "text": [
      "Having Python Class...\n"
     ]
    }
   ],
   "execution_count": 20
  },
  {
   "metadata": {
    "ExecuteTime": {
     "end_time": "2024-12-13T16:17:52.682013Z",
     "start_time": "2024-12-13T16:17:52.677512Z"
    }
   },
   "cell_type": "code",
   "source": [
    "ganchao=Student()\n",
    "print(f\"lm:{id(lm)}\")\n",
    "print(f\"ganchao:{id(ganchao)}\")"
   ],
   "id": "4769472a09d628d5",
   "outputs": [
    {
     "name": "stdout",
     "output_type": "stream",
     "text": [
      "lm:2318777769968\n",
      "ganchao:2318781044224\n"
     ]
    }
   ],
   "execution_count": 21
  },
  {
   "metadata": {
    "ExecuteTime": {
     "end_time": "2024-12-13T16:17:54.449342Z",
     "start_time": "2024-12-13T16:17:54.438841Z"
    }
   },
   "cell_type": "code",
   "source": "print(ganchao is lm)",
   "id": "23d71e2ea29ccf3d",
   "outputs": [
    {
     "name": "stdout",
     "output_type": "stream",
     "text": [
      "False\n"
     ]
    }
   ],
   "execution_count": 22
  },
  {
   "metadata": {},
   "cell_type": "markdown",
   "source": "## 2 类的初始化",
   "id": "5c0e741729373e01"
  },
  {
   "metadata": {
    "ExecuteTime": {
     "end_time": "2024-12-13T16:17:57.856875Z",
     "start_time": "2024-12-13T16:17:57.849864Z"
    }
   },
   "cell_type": "code",
   "source": [
    "class Student_1:\n",
    "    university=\"NKU\"\n",
    "    \n",
    "    def __init__(self,name,school):\n",
    "        self.name=name\n",
    "        self.school=school\n",
    "        \n",
    "    def take_class(self):\n",
    "        print(f\"{self.name} is having {self.school}'s class.\")"
   ],
   "id": "fabf06a81d0158d4",
   "outputs": [],
   "execution_count": 23
  },
  {
   "metadata": {
    "ExecuteTime": {
     "end_time": "2024-12-13T16:17:59.470755Z",
     "start_time": "2024-12-13T16:17:59.463753Z"
    }
   },
   "cell_type": "code",
   "source": [
    "Felipe=Student_1(\"guangtou\",\"CDRC\")\n",
    "Romulo=Student_1(\"erwa\",\"CDRC\")"
   ],
   "id": "69928b8098dd0c5b",
   "outputs": [],
   "execution_count": 24
  },
  {
   "metadata": {
    "ExecuteTime": {
     "end_time": "2024-12-13T16:18:00.503576Z",
     "start_time": "2024-12-13T16:18:00.497577Z"
    }
   },
   "cell_type": "code",
   "source": [
    "Felipe.take_class()\n",
    "Romulo.take_class()"
   ],
   "id": "544947f1e8c93915",
   "outputs": [
    {
     "name": "stdout",
     "output_type": "stream",
     "text": [
      "guangtou is having CDRC's class.\n",
      "erwa is having CDRC's class.\n"
     ]
    }
   ],
   "execution_count": 25
  },
  {
   "metadata": {
    "ExecuteTime": {
     "end_time": "2024-12-13T16:18:02.455241Z",
     "start_time": "2024-12-13T16:18:02.445352Z"
    }
   },
   "cell_type": "code",
   "source": [
    "Felipe.unique_skill=\"Shoot\"\n",
    "\n",
    "print(Felipe.unique_skill)"
   ],
   "id": "5c9a00c2216c5a8a",
   "outputs": [
    {
     "name": "stdout",
     "output_type": "stream",
     "text": [
      "Shoot\n"
     ]
    }
   ],
   "execution_count": 26
  },
  {
   "metadata": {
    "ExecuteTime": {
     "end_time": "2024-12-13T16:18:04.651793Z",
     "start_time": "2024-12-13T16:18:04.626595Z"
    }
   },
   "cell_type": "code",
   "source": "print(Student.name)\n",
   "id": "6711b14eb2fee8a7",
   "outputs": [
    {
     "ename": "AttributeError",
     "evalue": "type object 'Student' has no attribute 'name'",
     "output_type": "error",
     "traceback": [
      "\u001B[1;31m---------------------------------------------------------------------------\u001B[0m",
      "\u001B[1;31mAttributeError\u001B[0m                            Traceback (most recent call last)",
      "Cell \u001B[1;32mIn[27], line 1\u001B[0m\n\u001B[1;32m----> 1\u001B[0m \u001B[38;5;28mprint\u001B[39m(\u001B[43mStudent\u001B[49m\u001B[38;5;241;43m.\u001B[39;49m\u001B[43mname\u001B[49m)\n",
      "\u001B[1;31mAttributeError\u001B[0m: type object 'Student' has no attribute 'name'"
     ]
    }
   ],
   "execution_count": 27
  },
  {
   "metadata": {
    "ExecuteTime": {
     "end_time": "2024-12-13T16:18:07.067368Z",
     "start_time": "2024-12-13T16:18:07.051058Z"
    }
   },
   "cell_type": "code",
   "source": "print(Student.unique_skill)",
   "id": "11431fa924da6f7f",
   "outputs": [
    {
     "ename": "AttributeError",
     "evalue": "type object 'Student' has no attribute 'unique_skill'",
     "output_type": "error",
     "traceback": [
      "\u001B[1;31m---------------------------------------------------------------------------\u001B[0m",
      "\u001B[1;31mAttributeError\u001B[0m                            Traceback (most recent call last)",
      "Cell \u001B[1;32mIn[28], line 1\u001B[0m\n\u001B[1;32m----> 1\u001B[0m \u001B[38;5;28mprint\u001B[39m(\u001B[43mStudent\u001B[49m\u001B[38;5;241;43m.\u001B[39;49m\u001B[43munique_skill\u001B[49m)\n",
      "\u001B[1;31mAttributeError\u001B[0m: type object 'Student' has no attribute 'unique_skill'"
     ]
    }
   ],
   "execution_count": 28
  },
  {
   "metadata": {
    "ExecuteTime": {
     "end_time": "2024-12-13T16:18:09.253102Z",
     "start_time": "2024-12-13T16:18:09.231155Z"
    }
   },
   "cell_type": "code",
   "source": "print(Romulo.unique_skill)",
   "id": "9b010b4013f8bf09",
   "outputs": [
    {
     "ename": "AttributeError",
     "evalue": "'Student_1' object has no attribute 'unique_skill'",
     "output_type": "error",
     "traceback": [
      "\u001B[1;31m---------------------------------------------------------------------------\u001B[0m",
      "\u001B[1;31mAttributeError\u001B[0m                            Traceback (most recent call last)",
      "Cell \u001B[1;32mIn[29], line 1\u001B[0m\n\u001B[1;32m----> 1\u001B[0m \u001B[38;5;28mprint\u001B[39m(\u001B[43mRomulo\u001B[49m\u001B[38;5;241;43m.\u001B[39;49m\u001B[43munique_skill\u001B[49m)\n",
      "\u001B[1;31mAttributeError\u001B[0m: 'Student_1' object has no attribute 'unique_skill'"
     ]
    }
   ],
   "execution_count": 29
  },
  {
   "metadata": {
    "ExecuteTime": {
     "end_time": "2024-12-13T16:18:10.515061Z",
     "start_time": "2024-12-13T16:18:10.502846Z"
    }
   },
   "cell_type": "code",
   "source": [
    "print(Felipe.__dict__)\n",
    "print(Romulo.__dict__)"
   ],
   "id": "4108a269c1407fe5",
   "outputs": [
    {
     "name": "stdout",
     "output_type": "stream",
     "text": [
      "{'name': 'guangtou', 'school': 'CDRC', 'unique_skill': 'Shoot'}\n",
      "{'name': 'erwa', 'school': 'CDRC'}\n"
     ]
    }
   ],
   "execution_count": 30
  },
  {
   "metadata": {},
   "cell_type": "markdown",
   "source": "## 3 属性的查找顺序和修改",
   "id": "df1c316e71bb2fe4"
  },
  {
   "metadata": {
    "ExecuteTime": {
     "end_time": "2024-12-13T16:18:12.526906Z",
     "start_time": "2024-12-13T16:18:12.511611Z"
    }
   },
   "cell_type": "code",
   "source": [
    "class Student_2:\n",
    "    capacity=10\n",
    "    \n",
    "    def __init__(self,name,school):\n",
    "        self.name=name\n",
    "        self.school=school\n",
    "        print(self.capacity)\n",
    "        \n",
    "    def practice(self):\n",
    "        print(self.capacity)"
   ],
   "id": "a03d950f68953fc8",
   "outputs": [],
   "execution_count": 31
  },
  {
   "metadata": {
    "ExecuteTime": {
     "end_time": "2024-12-13T16:18:14.322910Z",
     "start_time": "2024-12-13T16:18:14.317409Z"
    }
   },
   "cell_type": "code",
   "source": [
    "gj=Student_2(\"Guojing\",\"Gschool\")\n",
    "print(gj.capacity)\n",
    "\n",
    "print(\"------------------\")\n",
    "\n",
    "gj.capacity=20\n",
    "Student_2.capacity=30\n",
    "print(gj.capacity)\n",
    "print(Student_2.capacity)\n",
    "\n",
    "print(\"------------------\")\n",
    "\n",
    "hr=Student_2(\"Huangrong\",\"Hschool\")\n",
    "print(hr.capacity)"
   ],
   "id": "5092ca121091d457",
   "outputs": [
    {
     "name": "stdout",
     "output_type": "stream",
     "text": [
      "10\n",
      "10\n",
      "------------------\n",
      "20\n",
      "30\n",
      "------------------\n",
      "30\n",
      "30\n"
     ]
    }
   ],
   "execution_count": 32
  },
  {
   "metadata": {},
   "cell_type": "markdown",
   "source": "## 4.4 定义类的三种方法",
   "id": "77e14fe84c4b8984"
  },
  {
   "metadata": {},
   "cell_type": "markdown",
   "source": "### 4.4.1 实例方法",
   "id": "55d6a770b74bba94"
  },
  {
   "metadata": {
    "ExecuteTime": {
     "end_time": "2024-12-13T16:22:49.222206Z",
     "start_time": "2024-12-13T16:22:49.213196Z"
    }
   },
   "cell_type": "code",
   "source": "Student_2.practice(hr) #类的首字母一般是大写的",
   "id": "11fd208ac86405de",
   "outputs": [
    {
     "name": "stdout",
     "output_type": "stream",
     "text": [
      "30\n"
     ]
    }
   ],
   "execution_count": 34
  },
  {
   "metadata": {},
   "cell_type": "markdown",
   "source": "### 4.2 类方法",
   "id": "9108e66cb3460da5"
  },
  {
   "metadata": {},
   "cell_type": "code",
   "outputs": [],
   "execution_count": null,
   "source": [
    "class Student_3:\n",
    "    capacity=10\n",
    "    \n",
    "    def __init__(self,name,school):\n",
    "        self.name=name\n",
    "        self.school=school\n",
    "        print(self.capacity)\n",
    "        \n",
    "    def practice(self):\n",
    "        print(self.capacity)\n",
    "        \n",
    "    @classmethod\n",
    "    def show_capacity(cls):\n",
    "        print(f\"{}\")"
   ],
   "id": "b293888f44831fca"
  }
 ],
 "metadata": {
  "kernelspec": {
   "display_name": "Python 3",
   "language": "python",
   "name": "python3"
  },
  "language_info": {
   "codemirror_mode": {
    "name": "ipython",
    "version": 2
   },
   "file_extension": ".py",
   "mimetype": "text/x-python",
   "name": "python",
   "nbconvert_exporter": "python",
   "pygments_lexer": "ipython2",
   "version": "2.7.6"
  }
 },
 "nbformat": 4,
 "nbformat_minor": 5
}
